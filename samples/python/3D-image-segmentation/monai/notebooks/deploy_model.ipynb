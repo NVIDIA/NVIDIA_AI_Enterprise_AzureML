{
  "cells": [
    {
      "cell_type": "markdown",
      "source": [
        "# Deploy trained model to Endpoint\r\n",
        "\r\n",
        "Endpoints provide a unified interface to invoke and manage model deployments across compute types [What are endpoints and deployments?](https://learn.microsoft.com/en-us/azure/machine-learning/concept-endpoints?view=azureml-api-2)\r\n"
      ],
      "metadata": {
        "nteract": {
          "transient": {
            "deleting": false
          }
        }
      }
    },
    {
      "cell_type": "markdown",
      "source": [
        "## Import Libraries"
      ],
      "metadata": {
        "nteract": {
          "transient": {
            "deleting": false
          }
        }
      }
    },
    {
      "cell_type": "code",
      "source": [
        "from azure.ai.ml import MLClient\r\n",
        "from azure.ai.ml.entities import ManagedOnlineEndpoint, ManagedOnlineDeployment, Model, Environment, CodeConfiguration, OnlineRequestSettings\r\n",
        "from azure.identity import DefaultAzureCredential\r\n",
        "from azure.core.exceptions import ResourceNotFoundError"
      ],
      "outputs": [],
      "execution_count": 7,
      "metadata": {
        "jupyter": {
          "source_hidden": false,
          "outputs_hidden": false
        },
        "nteract": {
          "transient": {
            "deleting": false
          }
        },
        "gather": {
          "logged": 1682375821659
        }
      }
    },
    {
      "cell_type": "markdown",
      "source": [
        "## Define constants"
      ],
      "metadata": {
        "nteract": {
          "transient": {
            "deleting": false
          }
        }
      }
    },
    {
      "cell_type": "code",
      "source": [
        "# Deployment\r\n",
        "online_endpoint_name = 'SRN-endpoint-demo1234'\r\n",
        "registered_model_name = 'SegResNet'\r\n",
        "deployment_name = 'blue'\r\n",
        "inference_env_name = 'inference-env'"
      ],
      "outputs": [],
      "execution_count": null,
      "metadata": {
        "jupyter": {
          "source_hidden": false,
          "outputs_hidden": false
        },
        "nteract": {
          "transient": {
            "deleting": false
          }
        }
      }
    },
    {
      "cell_type": "markdown",
      "source": [
        "## Create ML Client"
      ],
      "metadata": {
        "nteract": {
          "transient": {
            "deleting": false
          }
        }
      }
    },
    {
      "cell_type": "code",
      "source": [
        "credential = DefaultAzureCredential()\r\n",
        "\r\n",
        "ml_client = MLClient.from_config(credential=credential)"
      ],
      "outputs": [
        {
          "output_type": "stream",
          "name": "stderr",
          "text": "Found the config file in: ./config.json\n"
        }
      ],
      "execution_count": 2,
      "metadata": {
        "jupyter": {
          "source_hidden": false,
          "outputs_hidden": false
        },
        "nteract": {
          "transient": {
            "deleting": false
          }
        },
        "gather": {
          "logged": 1682375606114
        }
      }
    },
    {
      "cell_type": "markdown",
      "source": [
        "## Get latest model to deply from registry"
      ],
      "metadata": {
        "nteract": {
          "transient": {
            "deleting": false
          }
        }
      }
    },
    {
      "cell_type": "code",
      "source": [
        "model = ml_client.models.get(name=registered_model_name, label='latest')"
      ],
      "outputs": [],
      "execution_count": 4,
      "metadata": {
        "jupyter": {
          "source_hidden": false,
          "outputs_hidden": false
        },
        "nteract": {
          "transient": {
            "deleting": false
          }
        },
        "gather": {
          "logged": 1682375636535
        }
      }
    },
    {
      "cell_type": "markdown",
      "source": [
        "## Get Existing or Create Endpoint"
      ],
      "metadata": {
        "nteract": {
          "transient": {
            "deleting": false
          }
        }
      }
    },
    {
      "cell_type": "code",
      "source": [
        "try:\r\n",
        "    endpoint = ml_client.online_endpoints.get(online_endpoint_name)\r\n",
        "    print(\"Found existing endpoint.\")\r\n",
        "except ResourceNotFoundError:\r\n",
        "    print(\"Creating a new endpoint...\")\r\n",
        "    endpoint = ManagedOnlineEndpoint(\r\n",
        "        name=online_endpoint_name,\r\n",
        "        description=\"An online endpoint to generate predictions\",\r\n",
        "        auth_mode=\"key\",\r\n",
        "        tags={\"foo\": \"bar\"},\r\n",
        "    )\r\n",
        "\r\n",
        "    ml_client.begin_create_or_update(endpoint)"
      ],
      "outputs": [
        {
          "output_type": "execute_result",
          "execution_count": 25,
          "data": {
            "text/plain": "<azure.core.polling._poller.LROPoller at 0x7f2919d0b820>"
          },
          "metadata": {}
        }
      ],
      "execution_count": 25,
      "metadata": {
        "jupyter": {
          "source_hidden": false,
          "outputs_hidden": false
        },
        "nteract": {
          "transient": {
            "deleting": false
          }
        },
        "gather": {
          "logged": 1682377093298
        }
      }
    },
    {
      "cell_type": "markdown",
      "source": [
        "## Get Existing or Create Scoring Environment"
      ],
      "metadata": {
        "nteract": {
          "transient": {
            "deleting": false
          }
        }
      }
    },
    {
      "cell_type": "code",
      "source": [
        "try:\r\n",
        "    scoring_environment = ml_client.environments.get(inference_env_name, label='latest')\r\n",
        "    print(\"Found existing environment.\")\r\n",
        "except ResourceNotFoundError:\r\n",
        "    print(\"Creating a new environment...\")\r\n",
        "    scoring_environment = Environment(\r\n",
        "        image=\"mcr.microsoft.com/azureml/openmpi4.1.0-cuda11.1-cudnn8-ubuntu20.04:latest\",\r\n",
        "        conda_file=\"./scoring-env.yaml\",\r\n",
        "        name=inference_env_name,\r\n",
        "        description=\"Brain tumor segmentation inference environment\")\r\n",
        "\r\n",
        "    ml_client.environments.create_or_update(scoring_environment)"
      ],
      "outputs": [
        {
          "output_type": "stream",
          "name": "stdout",
          "text": "Found existing environment.\n"
        }
      ],
      "execution_count": 9,
      "metadata": {
        "jupyter": {
          "source_hidden": false,
          "outputs_hidden": false
        },
        "nteract": {
          "transient": {
            "deleting": false
          }
        },
        "gather": {
          "logged": 1682375858136
        }
      }
    },
    {
      "cell_type": "markdown",
      "source": [
        "## Get Existing or Create Model Deployment"
      ],
      "metadata": {
        "nteract": {
          "transient": {
            "deleting": false
          }
        }
      }
    },
    {
      "cell_type": "code",
      "source": [
        "try:\r\n",
        "    blue_deployment = ml_client.online_deployments.get(deployment_name, endpoint.name)\r\n",
        "    print(\"Found existing deployment.\")\r\n",
        "except ResourceNotFoundError:\r\n",
        "    print(\"Creating a new deployment...\")\r\n",
        "    blue_deployment = ManagedOnlineDeployment(\r\n",
        "        name=deployment_name,\r\n",
        "        endpoint_name=online_endpoint_name,\r\n",
        "        model=model,\r\n",
        "        environment=inference_env_name + \":1\",\r\n",
        "        code_configuration=CodeConfiguration(\r\n",
        "            code=\"./\",\r\n",
        "            scoring_script=\"score.py\"\r\n",
        "        ),\r\n",
        "        instance_type=\"Standard_E48s_v3\",\r\n",
        "        instance_count=3,\r\n",
        "        request_settings= OnlineRequestSettings(request_timeout_ms = 90000),\r\n",
        "    )\r\n",
        "\r\n",
        "    deployment = ml_client.begin_create_or_update(blue_deployment)"
      ],
      "outputs": [
        {
          "output_type": "stream",
          "name": "stdout",
          "text": "Found existing deployment.\n"
        }
      ],
      "execution_count": 24,
      "metadata": {
        "jupyter": {
          "source_hidden": false,
          "outputs_hidden": false
        },
        "nteract": {
          "transient": {
            "deleting": false
          }
        },
        "gather": {
          "logged": 1682376928509
        }
      }
    }
  ],
  "metadata": {
    "kernelspec": {
      "name": "python310-sdkv2",
      "language": "python",
      "display_name": "Python 3.10 - SDK v2"
    },
    "language_info": {
      "name": "python",
      "version": "3.10.9",
      "mimetype": "text/x-python",
      "codemirror_mode": {
        "name": "ipython",
        "version": 3
      },
      "pygments_lexer": "ipython3",
      "nbconvert_exporter": "python",
      "file_extension": ".py"
    },
    "microsoft": {
      "ms_spell_check": {
        "ms_spell_check_language": "en"
      },
      "host": {
        "AzureML": {
          "notebookHasBeenCompleted": true
        }
      }
    },
    "kernel_info": {
      "name": "python310-sdkv2"
    },
    "nteract": {
      "version": "nteract-front-end@1.0.0"
    }
  },
  "nbformat": 4,
  "nbformat_minor": 2
}
