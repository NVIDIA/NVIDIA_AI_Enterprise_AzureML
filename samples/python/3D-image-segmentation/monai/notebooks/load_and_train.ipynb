{
  "cells": [
    {
      "cell_type": "markdown",
      "source": [
        "# Load compressed data and train segmentation model using components and registry\r\n",
        "\r\n",
        "Build and use ML pipelines for MONAI image segmentation https://learn.microsoft.com/en-us/azure/machine-learning/how-to-create-component-pipeline-python?view=azureml-api-2\r\n"
      ],
      "metadata": {
        "nteract": {
          "transient": {
            "deleting": false
          }
        }
      }
    },
    {
      "cell_type": "markdown",
      "source": [
        "## Dev environment preparation\r\n",
        "_Do it only once_"
      ],
      "metadata": {
        "nteract": {
          "transient": {
            "deleting": false
          }
        }
      }
    },
    {
      "cell_type": "code",
      "source": [
        "# based on azureml_py310_sdkv2 kernel\r\n",
        "# %pip install torch==1.12.0 torchvision==0.13.0 torchaudio==0.12.0\r\n",
        "# %pip install 'monai[nibabel, ignite, tqdm]'\r\n",
        "# %pip install itkwidgets\r\n",
        "# %pip install --upgrade azure-ai-ml #to have SDK 2 (1.5.0)"
      ],
      "outputs": [],
      "execution_count": 1,
      "metadata": {
        "jupyter": {
          "source_hidden": false,
          "outputs_hidden": false
        },
        "nteract": {
          "transient": {
            "deleting": false
          }
        },
        "gather": {
          "logged": 1682369914318
        }
      }
    },
    {
      "cell_type": "markdown",
      "source": [
        "## Import Libraries"
      ],
      "metadata": {
        "nteract": {
          "transient": {
            "deleting": false
          }
        }
      }
    },
    {
      "cell_type": "code",
      "source": [
        "from azure.ai.ml import MLClient, Input, dsl\r\n",
        "from azure.identity import DefaultAzureCredential\r\n",
        "from azureml.core.compute import AmlCompute, ComputeTarget\r\n",
        "from azureml.core.compute_target import ComputeTargetException\r\n",
        "from azure.ai.ml import load_component\r\n",
        "from helper import create_compute_cluster"
      ],
      "outputs": [],
      "execution_count": 2,
      "metadata": {
        "jupyter": {
          "source_hidden": false,
          "outputs_hidden": false
        },
        "nteract": {
          "transient": {
            "deleting": false
          }
        },
        "gather": {
          "logged": 1682369915002
        }
      }
    },
    {
      "cell_type": "markdown",
      "source": [
        "## Define global constants"
      ],
      "metadata": {
        "nteract": {
          "transient": {
            "deleting": false
          }
        }
      }
    },
    {
      "cell_type": "markdown",
      "source": [
        "### Define registry constants"
      ],
      "metadata": {
        "nteract": {
          "transient": {
            "deleting": false
          }
        }
      }
    },
    {
      "cell_type": "code",
      "source": [
        "# Training\n",
        "experiment_name = 'monai-brain-tumor1' \n",
        "train_target = 'Standard-NC96ads-A100-v4'\n",
        "\n",
        "# Registry\n",
        "registry_name=\"ams-components\"\n",
        "registry_location=\"westeurope\"\n",
        "\n",
        "# Registry Components\n",
        "upload_data_from_blob_name=\"upload_data_from_blob\"\n",
        "train_segmentation_name=\"train_segmentation\"\n",
        "monai_pipeline_name=\"monai_pipeline\"\n",
        "tar_data_asset_local_name=\"tar_data_asset_local\"\n",
        "\n",
        "use_registry = True"
      ],
      "outputs": [],
      "execution_count": 3,
      "metadata": {
        "gather": {
          "logged": 1682369915107
        }
      }
    },
    {
      "cell_type": "markdown",
      "source": [
        "### Define Interactive constants"
      ],
      "metadata": {
        "nteract": {
          "transient": {
            "deleting": false
          }
        }
      }
    },
    {
      "cell_type": "code",
      "source": [
        "#BraTS data from kaggle\r\n",
        "tar_location='azureml://subscriptions/b7d41fc8-d35d-41db-92ed-1f7f1d32d4d9/resourcegroups/monai-ml-demo/workspaces/monai-ml-demo/datastores/tar_data_store/paths/tumordemo/BraTS2021_Training_Data.tar'"
      ],
      "outputs": [],
      "execution_count": 4,
      "metadata": {
        "jupyter": {
          "source_hidden": false,
          "outputs_hidden": false
        },
        "nteract": {
          "transient": {
            "deleting": false
          }
        },
        "gather": {
          "logged": 1682369915213
        }
      }
    },
    {
      "cell_type": "markdown",
      "source": [
        "## Create Azure ML and Registry Clients"
      ],
      "metadata": {
        "nteract": {
          "transient": {
            "deleting": false
          }
        }
      }
    },
    {
      "cell_type": "code",
      "source": [
        "credential = DefaultAzureCredential()\r\n",
        "\r\n",
        "ml_client = MLClient.from_config(credential=credential)\r\n",
        "\r\n",
        "ml_client_registry = MLClient(credential=credential,\r\n",
        "                        registry_name=registry_name,\r\n",
        "                        registry_location=registry_location)"
      ],
      "outputs": [
        {
          "output_type": "stream",
          "name": "stderr",
          "text": "Found the config file in: ./config.json\n"
        }
      ],
      "execution_count": 5,
      "metadata": {
        "jupyter": {
          "source_hidden": false,
          "outputs_hidden": false
        },
        "nteract": {
          "transient": {
            "deleting": false
          }
        },
        "gather": {
          "logged": 1682369916915
        }
      }
    },
    {
      "cell_type": "markdown",
      "source": [
        "## Create Compute Multi Node Training Cluster"
      ],
      "metadata": {
        "nteract": {
          "transient": {
            "deleting": false
          }
        }
      }
    },
    {
      "cell_type": "code",
      "source": [
        "# Create big compute cluster for training\r\n",
        "low_pri_compute = create_compute_cluster(ml_client=ml_client, cname=\"low-pri-example\", csize=\"Standard_NC96ads_A100_v4\")"
      ],
      "outputs": [
        {
          "output_type": "stream",
          "name": "stdout",
          "text": "Found existing compute target {name}.\n"
        }
      ],
      "execution_count": 6,
      "metadata": {
        "jupyter": {
          "source_hidden": false,
          "outputs_hidden": false
        },
        "nteract": {
          "transient": {
            "deleting": false
          }
        },
        "gather": {
          "logged": 1682369917992
        }
      }
    },
    {
      "cell_type": "markdown",
      "source": [
        "## Upload Registry components"
      ],
      "metadata": {
        "nteract": {
          "transient": {
            "deleting": false
          }
        }
      }
    },
    {
      "cell_type": "markdown",
      "source": [
        "### Upload data"
      ],
      "metadata": {
        "nteract": {
          "transient": {
            "deleting": false
          }
        }
      }
    },
    {
      "cell_type": "code",
      "source": [
        "# Upload data\r\n",
        "if use_registry:\r\n",
        "    tar_data_from_registry = ml_client_registry.data.get(name=tar_data_asset_local_name, label='latest')\r\n",
        "    pipeline_input=Input(type=\"uri_file\", path=tar_data_from_registry.id)\r\n",
        "else:\r\n",
        "    pipeline_input = Input(type=\"uri_file\", path=tar_location)"
      ],
      "outputs": [],
      "execution_count": 7,
      "metadata": {
        "jupyter": {
          "source_hidden": false,
          "outputs_hidden": false
        },
        "nteract": {
          "transient": {
            "deleting": false
          }
        },
        "gather": {
          "logged": 1682369920368
        }
      }
    },
    {
      "cell_type": "markdown",
      "source": [
        "### Upload command components"
      ],
      "metadata": {
        "nteract": {
          "transient": {
            "deleting": false
          }
        }
      }
    },
    {
      "cell_type": "code",
      "source": [
        "if use_registry:\r\n",
        "    # Upload Command components from registry\r\n",
        "    upload_component = ml_client_registry.components.get(name=upload_data_from_blob_name, label='latest')\r\n",
        "    train_component = ml_client_registry.components.get(name=train_segmentation_name, label='latest')\r\n",
        "else:\r\n",
        "    #Load components from source\r\n",
        "    upload_component = load_component(source=\"../components/upload_from_blob/spec.yaml\")\r\n",
        "    train_component = load_component(source=\"../components/train_segmentation/spec.yaml\")"
      ],
      "outputs": [],
      "execution_count": 8,
      "metadata": {
        "jupyter": {
          "source_hidden": false,
          "outputs_hidden": false
        },
        "nteract": {
          "transient": {
            "deleting": false
          }
        },
        "gather": {
          "logged": 1682369920898
        }
      }
    },
    {
      "cell_type": "markdown",
      "source": [
        "### Create pipeline job"
      ],
      "metadata": {
        "nteract": {
          "transient": {
            "deleting": false
          }
        }
      }
    },
    {
      "cell_type": "code",
      "source": [
        "if use_registry:\r\n",
        "    #Upload pipeline from registry\r\n",
        "    monai_pipeline = ml_client_registry.components.get(name=monai_pipeline_name, label='latest')\r\n",
        "else:\r\n",
        "    @dsl.pipeline(\r\n",
        "        name=\"pipeline_from_notebook\",\r\n",
        "        description=f'Pipeline for MONAI 3D segmentation.',\r\n",
        "    )\r\n",
        "    def monai_pipeline(pipeline_input_file):\r\n",
        "\r\n",
        "        #Load data pipeline step   \r\n",
        "        load_step = upload_component(\r\n",
        "            blob_file_location=pipeline_input_file,\r\n",
        "        )\r\n",
        "        \r\n",
        "        # # Train pipeline step\r\n",
        "        train_step = train_component(\r\n",
        "            input_data=load_step.outputs.image_data_folder, best_model_name=\"model_from_notebook\", max_epochs = 2\r\n",
        "        )\r\n",
        "        train_step.distribution.process_count_per_instance=4\r\n",
        "        train_step.resources = {'instance_count' : 3, 'shm_size':'300g'}\r\n",
        "        train_step.environment_variables = {'AZUREML_ARTIFACTS_DEFAULT_TIMEOUT' : '1000'}\r\n",
        "        train_step.compute_target =low_pri_compute\r\n",
        "\r\n",
        "        return {\r\n",
        "            \"model\" : train_step.outputs.model,\r\n",
        "        }"
      ],
      "outputs": [],
      "execution_count": 9,
      "metadata": {
        "jupyter": {
          "source_hidden": false,
          "outputs_hidden": false
        },
        "nteract": {
          "transient": {
            "deleting": false
          }
        },
        "gather": {
          "logged": 1682369921196
        }
      }
    },
    {
      "cell_type": "markdown",
      "source": [
        "## Run pipeline job"
      ],
      "metadata": {
        "nteract": {
          "transient": {
            "deleting": false
          }
        }
      }
    },
    {
      "cell_type": "code",
      "source": [
        "pipeline_job = monai_pipeline(pipeline_input_file = pipeline_input)\r\n",
        "\r\n",
        "# don't use cached results from previous jobs\r\n",
        "pipeline_job.settings.force_rerun = True\r\n",
        "\r\n",
        "# to run the whole pipeline on a cluster instead of running first component on Compute Instance\r\n",
        "pipeline_job.settings.default_compute = \"low-pri-compute\"\r\n",
        "\r\n",
        "ml_client.jobs.create_or_update(pipeline_job, experiment_name=experiment_name)\r\n"
      ],
      "outputs": [
        {
          "output_type": "execute_result",
          "execution_count": 11,
          "data": {
            "text/plain": "PipelineJob({'inputs': {'pipeline_input_file': <azure.ai.ml.entities._job.pipeline._io.base.PipelineInput object at 0x7f56703f1b10>}, 'outputs': {}, 'jobs': {}, 'component': 'azureml://registries/ams-components/components/monai_pipeline/versions/2023-04-24-20-47-50-9808257', 'type': 'pipeline', 'status': 'Preparing', 'log_files': None, 'name': 'khaki_tail_1gfw7qppnr', 'description': None, 'tags': {}, 'properties': {'azureml.SourceComponentId': 'azureml://registries/ams-components/components/monai_pipeline/versions/2023-04-24-20-47-50-9808257', 'azureml.DevPlatv2': 'true', 'azureml.DatasetAccessMode': 'Asset', 'azureml.runsource': 'azureml.PipelineRun', 'runSource': 'MFE', 'runType': 'HTTP', 'azureml.parameters': '{}', 'azureml.continue_on_step_failure': 'True', 'azureml.continue_on_failed_optional_input': 'True', 'azureml.enforceRerun': 'False', 'azureml.defaultComputeName': 'low-pri-example', 'azureml.defaultDataStoreName': 'workspaceblobstore', 'azureml.pipelineComponent': 'pipelinerun'}, 'print_as_yaml': True, 'id': '/subscriptions/b7d41fc8-d35d-41db-92ed-1f7f1d32d4d9/resourceGroups/monai-ml-demo/providers/Microsoft.MachineLearningServices/workspaces/monai-ml-demo/jobs/khaki_tail_1gfw7qppnr', 'Resource__source_path': None, 'base_path': '/mnt/batch/tasks/shared/LS_root/mounts/clusters/standard-nc96ads-a100-v4/code/Users/aspiridonov/monai-3D-segmentation/brats-mri-segmentation-segresnet/demo', 'creation_context': <azure.ai.ml.entities._system_data.SystemData object at 0x7f56703abd90>, 'serialize': <msrest.serialization.Serializer object at 0x7f56703aa7d0>, 'display_name': 'monai_pipeline', 'experiment_name': 'monai-brain-tumor1', 'compute': None, 'services': {'Tracking': <azure.ai.ml.entities._job.job_service.JobService object at 0x7f56703f19f0>, 'Studio': <azure.ai.ml.entities._job.job_service.JobService object at 0x7f56703aa980>}, 'settings': {}, 'identity': None, 'default_code': None, 'default_environment': None})",
            "text/html": "<table style=\"width:100%\"><tr><th>Experiment</th><th>Name</th><th>Type</th><th>Status</th><th>Details Page</th></tr><tr><td>monai-brain-tumor1</td><td>khaki_tail_1gfw7qppnr</td><td>pipeline</td><td>Preparing</td><td><a href=\"https://ml.azure.com/runs/khaki_tail_1gfw7qppnr?wsid=/subscriptions/b7d41fc8-d35d-41db-92ed-1f7f1d32d4d9/resourcegroups/monai-ml-demo/workspaces/monai-ml-demo&amp;tid=43083d15-7273-40c1-b7db-39efd9ccc17a\" target=\"_blank\" rel=\"noopener\">Link to Azure Machine Learning studio</a></td></tr></table>"
          },
          "metadata": {}
        }
      ],
      "execution_count": 11,
      "metadata": {
        "jupyter": {
          "source_hidden": false,
          "outputs_hidden": false
        },
        "nteract": {
          "transient": {
            "deleting": false
          }
        },
        "gather": {
          "logged": 1682369926067
        }
      }
    }
  ],
  "metadata": {
    "kernelspec": {
      "name": "python310-sdkv2",
      "language": "python",
      "display_name": "Python 3.10 - SDK v2"
    },
    "language_info": {
      "name": "python",
      "version": "3.10.9",
      "mimetype": "text/x-python",
      "codemirror_mode": {
        "name": "ipython",
        "version": 3
      },
      "pygments_lexer": "ipython3",
      "nbconvert_exporter": "python",
      "file_extension": ".py"
    },
    "orig_nbformat": 4,
    "microsoft": {
      "ms_spell_check": {
        "ms_spell_check_language": "en"
      },
      "host": {
        "AzureML": {
          "notebookHasBeenCompleted": true
        }
      }
    },
    "kernel_info": {
      "name": "python310-sdkv2"
    },
    "nteract": {
      "version": "nteract-front-end@1.0.0"
    }
  },
  "nbformat": 4,
  "nbformat_minor": 2
}