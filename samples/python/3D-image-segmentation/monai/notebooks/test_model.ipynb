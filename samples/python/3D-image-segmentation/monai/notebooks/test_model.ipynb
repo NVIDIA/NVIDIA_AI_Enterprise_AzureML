{
  "cells": [
    {
      "cell_type": "markdown",
      "source": [
        "# Test inference using previosly trained and deployed model\r\n"
      ],
      "metadata": {
        "nteract": {
          "transient": {
            "deleting": false
          }
        }
      }
    },
    {
      "cell_type": "markdown",
      "source": [
        "## Import Libraries"
      ],
      "metadata": {
        "nteract": {
          "transient": {
            "deleting": false
          }
        }
      }
    },
    {
      "cell_type": "code",
      "source": [
        "import torch\r\n",
        "import base64\r\n",
        "import json\r\n",
        "import numpy as np\r\n",
        "import matplotlib.pyplot as plt\r\n",
        "from ipywidgets import interact\r\n",
        "from azure.ai.ml import MLClient, Input\r\n",
        "from azure.ai.ml.entities import ManagedOnlineEndpoint, ManagedOnlineDeployment, Model, CodeConfiguration, OnlineRequestSettings\r\n",
        "from azure.ai.ml.constants import AssetTypes\r\n",
        "from azure.identity import DefaultAzureCredential\r\n",
        "from azure.core.exceptions import ResourceNotFoundError\r\n",
        "from helper import ConvertToMultiChannelBasedOnBratsClassesd\r\n",
        "from monai.apps import DecathlonDataset\r\n",
        "from monai.data import DataLoader, Dataset\r\n",
        "from monai.transforms import Compose, LoadImaged, EnsureChannelFirstd, EnsureTyped, Orientationd, Spacingd, NormalizeIntensityd\r\n",
        "from monai.visualize.utils import blend_images\r\n"
      ],
      "outputs": [],
      "execution_count": 1,
      "metadata": {
        "jupyter": {
          "source_hidden": false,
          "outputs_hidden": false
        },
        "nteract": {
          "transient": {
            "deleting": false
          }
        },
        "gather": {
          "logged": 1682381315306
        }
      }
    },
    {
      "cell_type": "markdown",
      "source": [
        "## Define constants"
      ],
      "metadata": {
        "nteract": {
          "transient": {
            "deleting": false
          }
        }
      }
    },
    {
      "cell_type": "code",
      "source": [
        "# Deployment\r\n",
        "online_endpoint_name = 'SRN-endpoint-demo1234'\r\n",
        "registered_model_name = 'best-model'\r\n",
        "deployment_name = 'blue'\r\n",
        "inference_env_name = 'inference-env'\r\n",
        "request_file_name = 'request.json'"
      ],
      "outputs": [],
      "execution_count": 2,
      "metadata": {
        "jupyter": {
          "source_hidden": false,
          "outputs_hidden": false
        },
        "nteract": {
          "transient": {
            "deleting": false
          }
        },
        "gather": {
          "logged": 1682381321336
        }
      }
    },
    {
      "cell_type": "markdown",
      "source": [
        "## Create ML Client"
      ],
      "metadata": {
        "nteract": {
          "transient": {
            "deleting": false
          }
        }
      }
    },
    {
      "cell_type": "code",
      "source": [
        "credential = DefaultAzureCredential()\r\n",
        "\r\n",
        "ml_client = MLClient.from_config(credential=credential)"
      ],
      "outputs": [
        {
          "output_type": "stream",
          "name": "stdout",
          "text": "2023-04-25 00:08:44,877 - No environment configuration found.\n2023-04-25 00:08:44,878 - ManagedIdentityCredential will use Azure ML managed identity\n"
        },
        {
          "output_type": "stream",
          "name": "stderr",
          "text": "Found the config file in: ./config.json\n"
        }
      ],
      "execution_count": 3,
      "metadata": {
        "jupyter": {
          "source_hidden": false,
          "outputs_hidden": false
        },
        "nteract": {
          "transient": {
            "deleting": false
          }
        },
        "gather": {
          "logged": 1682381326272
        }
      }
    },
    {
      "cell_type": "markdown",
      "source": [
        "## Connect to already deployed Endpoint"
      ],
      "metadata": {
        "nteract": {
          "transient": {
            "deleting": false
          }
        }
      }
    },
    {
      "cell_type": "code",
      "source": [
        "try:\r\n",
        "    endpoint = ml_client.online_endpoints.get(online_endpoint_name)\r\n",
        "    print(\"Found existing endpoint.\")\r\n",
        "except ResourceNotFoundError:\r\n",
        "    print(\"Didnt find workign endpoint: {online_endpoint_name} ...\")\r\n",
        "    quit()"
      ],
      "outputs": [
        {
          "output_type": "stream",
          "name": "stdout",
          "text": "2023-04-25 00:09:09,096 - DefaultAzureCredential acquired a token from ManagedIdentityCredential\nFound existing endpoint.\n"
        }
      ],
      "execution_count": 5,
      "metadata": {
        "jupyter": {
          "source_hidden": false,
          "outputs_hidden": false
        },
        "nteract": {
          "transient": {
            "deleting": false
          }
        },
        "gather": {
          "logged": 1682381351546
        }
      }
    },
    {
      "cell_type": "markdown",
      "source": [
        "## Verify Endpoint traffic and inference url"
      ],
      "metadata": {
        "nteract": {
          "transient": {
            "deleting": false
          }
        }
      }
    },
    {
      "cell_type": "code",
      "source": [
        "# existing traffic details\r\n",
        "print(endpoint.traffic)\r\n",
        "# Get the scoring URI\r\n",
        "print(endpoint.scoring_uri)"
      ],
      "outputs": [
        {
          "output_type": "stream",
          "name": "stdout",
          "text": "{'blue': 0}\nhttps://srn-endpoint-demo1234.westeurope.inference.ml.azure.com/score\n"
        }
      ],
      "execution_count": 6,
      "metadata": {
        "jupyter": {
          "source_hidden": false,
          "outputs_hidden": false
        },
        "nteract": {
          "transient": {
            "deleting": false
          }
        },
        "gather": {
          "logged": 1682381360334
        }
      }
    },
    {
      "cell_type": "markdown",
      "source": [
        "## Reset traffic to Max"
      ],
      "metadata": {
        "nteract": {
          "transient": {
            "deleting": false
          }
        }
      }
    },
    {
      "cell_type": "code",
      "source": [
        "# blue deployment takes 100 traffic\r\n",
        "endpoint.traffic = {deployment_name: 100}\r\n",
        "ml_client.online_endpoints.begin_create_or_update(endpoint)"
      ],
      "outputs": [
        {
          "output_type": "stream",
          "name": "stdout",
          "text": "2023-04-25 00:09:28,876 - DefaultAzureCredential acquired a token from ManagedIdentityCredential\n2023-04-25 00:09:28,972 - Readonly attribute principal_id will be ignored in class <class 'azure.ai.ml._restclient.v2022_05_01.models._models_py3.ManagedServiceIdentity'>\n2023-04-25 00:09:28,973 - Readonly attribute tenant_id will be ignored in class <class 'azure.ai.ml._restclient.v2022_05_01.models._models_py3.ManagedServiceIdentity'>\n"
        },
        {
          "output_type": "execute_result",
          "execution_count": 7,
          "data": {
            "text/plain": "<azure.core.polling._poller.LROPoller at 0x7f3358ada5f0>"
          },
          "metadata": {}
        }
      ],
      "execution_count": 7,
      "metadata": {
        "jupyter": {
          "source_hidden": false,
          "outputs_hidden": false
        },
        "nteract": {
          "transient": {
            "deleting": false
          }
        },
        "gather": {
          "logged": 1682381372409
        }
      }
    },
    {
      "cell_type": "markdown",
      "source": [
        "## Define validation samples"
      ],
      "metadata": {
        "nteract": {
          "transient": {
            "deleting": false
          }
        }
      }
    },
    {
      "cell_type": "code",
      "source": [
        "# Visualization and validation sample\r\n",
        "sample_image = '../samples/BraTS2021_00402_flair.nii.gz' \r\n",
        "sample_image_t1 = '../samples/BraTS2021_00402_t1.nii.gz'\r\n",
        "sample_image_t1ce = '../samples/BraTS2021_00402_t1ce.nii.gz'\r\n",
        "sample_image_t2 = '../samples/BraTS2021_00402_t2.nii.gz'\r\n",
        "sample_label = '../samples/BraTS2021_00402_seg.nii.gz'"
      ],
      "outputs": [],
      "execution_count": 8,
      "metadata": {
        "jupyter": {
          "source_hidden": false,
          "outputs_hidden": false
        },
        "nteract": {
          "transient": {
            "deleting": false
          }
        },
        "gather": {
          "logged": 1682381374323
        }
      }
    },
    {
      "cell_type": "markdown",
      "source": [
        "## Encode validation images and create .json request file"
      ],
      "metadata": {
        "nteract": {
          "transient": {
            "deleting": false
          }
        }
      }
    },
    {
      "cell_type": "code",
      "source": [
        "# Encode input images for JSON request file\r\n",
        "with open(sample_image, \"rb\") as image_file:\r\n",
        "    flair_encoded = base64.b64encode(image_file.read()).decode('utf-8')\r\n",
        "\r\n",
        "with open(sample_image_t1, \"rb\") as image_file:\r\n",
        "    t1_encoded = base64.b64encode(image_file.read()).decode('utf-8')\r\n",
        "\r\n",
        "with open(sample_image_t1ce, \"rb\") as image_file:\r\n",
        "    t1ce_encoded = base64.b64encode(image_file.read()).decode('utf-8')\r\n",
        "\r\n",
        "with open(sample_image_t2, \"rb\") as image_file:\r\n",
        "    t2_encoded = base64.b64encode(image_file.read()).decode('utf-8')\r\n",
        "\r\n",
        "request_data = {\r\n",
        "    \"data\": [{\"flair\": flair_encoded, \"t1\": t1_encoded, \r\n",
        "              \"t1ce\": t1ce_encoded, \"t2\": t2_encoded\r\n",
        "             }]\r\n",
        "}\r\n",
        "\r\n",
        "# Write the JSON request data to a file\r\n",
        "with open(request_file_name, \"w\") as outfile:\r\n",
        "    json.dump(request_data, outfile)"
      ],
      "outputs": [],
      "execution_count": 9,
      "metadata": {
        "jupyter": {
          "source_hidden": false,
          "outputs_hidden": false
        },
        "nteract": {
          "transient": {
            "deleting": false
          }
        },
        "gather": {
          "logged": 1682381391284
        }
      }
    },
    {
      "cell_type": "markdown",
      "source": [
        "## Send the request and get the responce from Endpoint"
      ],
      "metadata": {
        "nteract": {
          "transient": {
            "deleting": false
          }
        }
      }
    },
    {
      "cell_type": "code",
      "source": [
        "response = ml_client.online_endpoints.invoke(\r\n",
        "    endpoint_name= online_endpoint_name,\r\n",
        "    deployment_name= deployment_name,\r\n",
        "    request_timeout_ms=90000,\r\n",
        "    request_file=request_file_name,\r\n",
        ")"
      ],
      "outputs": [],
      "execution_count": 10,
      "metadata": {
        "jupyter": {
          "source_hidden": false,
          "outputs_hidden": false
        },
        "nteract": {
          "transient": {
            "deleting": false
          }
        },
        "gather": {
          "logged": 1682381441482
        }
      }
    },
    {
      "cell_type": "markdown",
      "source": [
        "## Convert the responce to numpy array for visualization"
      ],
      "metadata": {
        "nteract": {
          "transient": {
            "deleting": false
          }
        }
      }
    },
    {
      "cell_type": "code",
      "source": [
        "# convert response to numpy array with dimensions channel, height, width, slice\r\n",
        "json_response = json.loads(response)\r\n",
        "pred_vol = np.array(json_response)"
      ],
      "outputs": [],
      "execution_count": 11,
      "metadata": {
        "jupyter": {
          "source_hidden": false,
          "outputs_hidden": false
        },
        "nteract": {
          "transient": {
            "deleting": false
          }
        },
        "gather": {
          "logged": 1682381452326
        }
      }
    },
    {
      "cell_type": "markdown",
      "source": [
        "## Convert labels and to inspect inference results like in the first notebook"
      ],
      "metadata": {
        "nteract": {
          "transient": {
            "deleting": false
          }
        }
      }
    },
    {
      "cell_type": "code",
      "source": [
        "val_transform = Compose(\r\n",
        "[\r\n",
        "    LoadImaged(keys=[\"image\", \"label\"]),\r\n",
        "    EnsureChannelFirstd(keys=\"image\"),\r\n",
        "    EnsureTyped(keys=[\"image\", \"label\"]),\r\n",
        "    ConvertToMultiChannelBasedOnBratsClassesd(keys=\"label\"),\r\n",
        "    Orientationd(keys=[\"image\", \"label\"], axcodes=\"RAS\"),\r\n",
        "    Spacingd(\r\n",
        "        keys=[\"image\", \"label\"],\r\n",
        "        pixdim=(1.0, 1.0, 1.0),\r\n",
        "        mode=(\"bilinear\", \"nearest\"),\r\n",
        "    ),\r\n",
        "    NormalizeIntensityd(keys=\"image\", nonzero=True, channel_wise=True),\r\n",
        "])\r\n",
        "\r\n",
        "data_list = [{'image': sample_image, 'label': sample_label}]\r\n",
        "val_ds = Dataset(data=data_list, transform=val_transform)\r\n",
        "\r\n",
        "img_vol = val_ds[0][\"image\"].numpy()\r\n",
        "seg_vol = val_ds[0][\"label\"].numpy()"
      ],
      "outputs": [],
      "execution_count": 12,
      "metadata": {
        "jupyter": {
          "source_hidden": false,
          "outputs_hidden": false
        },
        "nteract": {
          "transient": {
            "deleting": false
          }
        },
        "gather": {
          "logged": 1682381465311
        }
      }
    },
    {
      "cell_type": "markdown",
      "source": [
        "## Use ipywidgets plugin to visualize original and predicted images"
      ],
      "metadata": {
        "nteract": {
          "transient": {
            "deleting": false
          }
        }
      }
    },
    {
      "cell_type": "code",
      "source": [
        "def show_slice(slice_index=60):\r\n",
        "\r\n",
        "    img = np.expand_dims(img_vol[0,:,:,slice_index], 0) # images\r\n",
        "    true_seg = np.expand_dims(seg_vol[0,:,:,slice_index], 0) # annotated ground truth labels\r\n",
        "    pred_seg = np.expand_dims(pred_vol[0,:,:,slice_index], 0)  # predicted labels\r\n",
        "    \r\n",
        "    blend = blend_images(img, true_seg, cmap='hsv')\r\n",
        "    over_true = np.transpose(blend, (1,2,0))\r\n",
        "    blend = blend_images(img, pred_seg, cmap='Blues')\r\n",
        "    over_pred = np.transpose(blend, (1,2,0))\r\n",
        "    \r\n",
        "    fig, ((ax1, ax2)) = plt.subplots(1, 2, figsize=(14, 7))\r\n",
        "\r\n",
        "    ax1.imshow(over_true)\r\n",
        "    ax1.set_title('Ground truth segmentations')\r\n",
        "    ax2.imshow(over_pred)\r\n",
        "    ax2.set_title('Predicted segmentations')\r\n",
        "    \r\n",
        "    plt.tight_layout()\r\n",
        "    plt.show()\r\n",
        "\r\n",
        "# Use the interact function to create a slider for the slice index\r\n",
        "_ = interact(show_slice, slice_index=(0, img_vol.shape[-1]-1))"
      ],
      "outputs": [
        {
          "output_type": "display_data",
          "data": {
            "text/plain": "<Figure size 1008x504 with 2 Axes>",
            "image/png": "[encoded data removed]"
          },
          "metadata": {
            "needs_background": "light"
          }
        }
      ],
      "execution_count": 13,
      "metadata": {
        "jupyter": {
          "source_hidden": false,
          "outputs_hidden": false
        },
        "nteract": {
          "transient": {
            "deleting": false
          }
        },
        "gather": {
          "logged": 1682381480748
        }
      }
    }
  ],
  "metadata": {
    "kernelspec": {
      "name": "python310-sdkv2",
      "language": "python",
      "display_name": "Python 3.10 - SDK v2"
    },
    "language_info": {
      "name": "python",
      "version": "3.10.9",
      "mimetype": "text/x-python",
      "codemirror_mode": {
        "name": "ipython",
        "version": 3
      },
      "pygments_lexer": "ipython3",
      "nbconvert_exporter": "python",
      "file_extension": ".py"
    },
    "microsoft": {
      "ms_spell_check": {
        "ms_spell_check_language": "en"
      },
      "host": {
        "AzureML": {
          "notebookHasBeenCompleted": true
        }
      }
    },
    "kernel_info": {
      "name": "python310-sdkv2"
    },
    "nteract": {
      "version": "nteract-front-end@1.0.0"
    }
  },
  "nbformat": 4,
  "nbformat_minor": 2
}